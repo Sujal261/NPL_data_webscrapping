{
 "cells": [
  {
   "cell_type": "code",
   "execution_count": 35,
   "metadata": {},
   "outputs": [],
   "source": [
    "from bs4 import BeautifulSoup\n",
    "from selenium import webdriver\n",
    "from selenium.webdriver.common.by import By\n",
    "from selenium.webdriver.support.ui import WebDriverWait\n",
    "from selenium.webdriver.support import expected_conditions as EC"
   ]
  },
  {
   "cell_type": "code",
   "execution_count": 36,
   "metadata": {},
   "outputs": [],
   "source": [
    "import selenium\n",
    "from selenium import webdriver\n",
    "from selenium.webdriver.common.by import By\n",
    "from selenium.webdriver.common.keys import Keys\n",
    "from selenium.webdriver.firefox.service import Service\n",
    "from bs4 import BeautifulSoup\n",
    "import time"
   ]
  },
  {
   "cell_type": "code",
   "execution_count": 51,
   "metadata": {},
   "outputs": [],
   "source": [
    "service = Service(r'C:\\\\Users\\\\Roshan Koirala\\\\Desktop\\\\FUN with GPT\\\\NEPAL PREMIER LEAGUE\\\\NPL NEW TRY\\\\geckodriver-v0.35.0-win64 (1)\\\\geckodriver.exe')\n",
    "\n",
    "driver = webdriver.Firefox(service=service)"
   ]
  },
  {
   "cell_type": "code",
   "execution_count": 38,
   "metadata": {},
   "outputs": [
    {
     "name": "stdout",
     "output_type": "stream",
     "text": [
      "https://www.espncricinfo.com/series/nepal-premier-league-2024-25-1462594/biratnagar-kings-npl-vs-janakpur-bolts-npl-1st-match-1462596/full-scorecard\n",
      "https://www.espncricinfo.com/series/nepal-premier-league-2024-25-1462594/kathmandu-gurkhas-npl-vs-chitwan-rhinos-npl-2nd-match-1462640/full-scorecard\n",
      "https://www.espncricinfo.com/series/nepal-premier-league-2024-25-1462594/janakpur-bolts-npl-vs-karnali-yaks-npl-3rd-match-1462641/full-scorecard\n",
      "https://www.espncricinfo.com/series/nepal-premier-league-2024-25-1462594/sudur-paschim-royals-npl-vs-biratnagar-kings-npl-4th-match-1462642/full-scorecard\n",
      "https://www.espncricinfo.com/series/nepal-premier-league-2024-25-1462594/chitwan-rhinos-npl-vs-pokhara-avengers-npl-5th-match-1462643/full-scorecard\n",
      "https://www.espncricinfo.com/series/nepal-premier-league-2024-25-1462594/karnali-yaks-npl-vs-kathmandu-gurkhas-npl-6th-match-1462644/full-scorecard\n",
      "https://www.espncricinfo.com/series/nepal-premier-league-2024-25-1462594/biratnagar-kings-npl-vs-lumbini-lions-npl-7th-match-1462645/full-scorecard\n",
      "https://www.espncricinfo.com/series/nepal-premier-league-2024-25-1462594/pokhara-avengers-npl-vs-janakpur-bolts-npl-8th-match-1462646/full-scorecard\n",
      "https://www.espncricinfo.com/series/nepal-premier-league-2024-25-1462594/kathmandu-gurkhas-npl-vs-sudur-paschim-royals-npl-9th-match-1462647/full-scorecard\n",
      "https://www.espncricinfo.com/series/nepal-premier-league-2024-25-1462594/karnali-yaks-npl-vs-chitwan-rhinos-npl-10th-match-1462648/full-scorecard\n",
      "https://www.espncricinfo.com/series/nepal-premier-league-2024-25-1462594/lumbini-lions-npl-vs-pokhara-avengers-npl-11th-match-1462649/full-scorecard\n",
      "https://www.espncricinfo.com/series/nepal-premier-league-2024-25-1462594/lumbini-lions-npl-vs-sudur-paschim-royals-npl-12th-match-1462650/full-scorecard\n",
      "https://www.espncricinfo.com/series/nepal-premier-league-2024-25-1462594/karnali-yaks-npl-vs-biratnagar-kings-npl-13th-match-1462651/full-scorecard\n",
      "https://www.espncricinfo.com/series/nepal-premier-league-2024-25-1462594/janakpur-bolts-npl-vs-lumbini-lions-npl-14th-match-1462652/full-scorecard\n",
      "https://www.espncricinfo.com/series/nepal-premier-league-2024-25-1462594/sudur-paschim-royals-npl-vs-chitwan-rhinos-npl-15th-match-1462653/full-scorecard\n",
      "https://www.espncricinfo.com/series/nepal-premier-league-2024-25-1462594/chitwan-rhinos-npl-vs-lumbini-lions-npl-16th-match-1462654/full-scorecard\n",
      "https://www.espncricinfo.com/series/nepal-premier-league-2024-25-1462594/karnali-yaks-npl-vs-pokhara-avengers-npl-17th-match-1462655/full-scorecard\n",
      "https://www.espncricinfo.com/series/nepal-premier-league-2024-25-1462594/janakpur-bolts-npl-vs-sudur-paschim-royals-npl-18th-match-1462656/full-scorecard\n",
      "https://www.espncricinfo.com/series/nepal-premier-league-2024-25-1462594/kathmandu-gurkhas-npl-vs-lumbini-lions-npl-19th-match-1462657/full-scorecard\n",
      "https://www.espncricinfo.com/series/nepal-premier-league-2024-25-1462594/pokhara-avengers-npl-vs-biratnagar-kings-npl-20th-matcgh-1462658/full-scorecard\n",
      "https://www.espncricinfo.com/series/nepal-premier-league-2024-25-1462594/janakpur-bolts-npl-vs-kathmandu-gurkhas-npl-21st-match-1462659/full-scorecard\n",
      "https://www.espncricinfo.com/series/nepal-premier-league-2024-25-1462594/lumbini-lions-npl-vs-karnali-yaks-npl-22nd-match-1462660/full-scorecard\n",
      "https://www.espncricinfo.com/series/nepal-premier-league-2024-25-1462594/biratnagar-kings-npl-vs-chitwan-rhinos-npl-23rd-match-1462661/full-scorecard\n",
      "https://www.espncricinfo.com/series/nepal-premier-league-2024-25-1462594/pokhara-avengers-npl-vs-kathmandu-gurkhas-npl-24th-match-1462662/full-scorecard\n",
      "https://www.espncricinfo.com/series/nepal-premier-league-2024-25-1462594/chitwan-rhinos-npl-vs-janakpur-bolts-npl-25th-match-1462663/full-scorecard\n",
      "https://www.espncricinfo.com/series/nepal-premier-league-2024-25-1462594/biratnagar-kings-npl-vs-kathmandu-gurkhas-npl-26th-match-1462664/full-scorecard\n",
      "https://www.espncricinfo.com/series/nepal-premier-league-2024-25-1462594/pokhara-avengers-npl-vs-sudur-paschim-royals-npl-27th-match-1462665/full-scorecard\n",
      "https://www.espncricinfo.com/series/nepal-premier-league-2024-25-1462594/sudur-paschim-royals-npl-vs-karnali-yaks-npl-28th-match-1462666/full-scorecard\n",
      "https://www.espncricinfo.com/series/nepal-premier-league-2024-25-1462594/chitwan-rhinos-npl-vs-karnali-yaks-npl-eliminator-1462667/full-scorecard\n",
      "https://www.espncricinfo.com/series/nepal-premier-league-2024-25-1462594/sudur-paschim-royals-npl-vs-janakpur-bolts-npl-qualifier-1-1462668/full-scorecard\n",
      "https://www.espncricinfo.com/series/nepal-premier-league-2024-25-1462594/janakpur-bolts-npl-vs-karnali-yaks-npl-qualifier-2-1462669/full-scorecard\n",
      "https://www.espncricinfo.com/series/nepal-premier-league-2024-25-1462594/sudur-paschim-royals-npl-vs-janakpur-bolts-npl-final-1462670/full-scorecard\n",
      "\n",
      "Total NPL matches: 32\n"
     ]
    }
   ],
   "source": [
    "from selenium import webdriver\n",
    "from selenium.webdriver.common.by import By\n",
    "\n",
    "driver = webdriver.Firefox()\n",
    "\n",
    "try:\n",
    "    url = \"https://www.espncricinfo.com/series/nepal-premier-league-2024-25-1462594/match-schedule-fixtures-and-results\"\n",
    "    driver.get(url)\n",
    "    time.sleep(5)\n",
    "    \n",
    "    npl_matches = []\n",
    "    \n",
    "    for _ in range(5):  \n",
    "        driver.execute_script(\"window.scrollTo(0, document.body.scrollHeight);\")\n",
    "        time.sleep(2)\n",
    "        \n",
    "        links = driver.find_elements(By.CSS_SELECTOR, \"a[href*='nepal-premier-league'][href*='full-scorecard']\")\n",
    "        for link in links:\n",
    "            href = link.get_attribute('href')\n",
    "            if href and href not in npl_matches:\n",
    "                npl_matches.append(href)\n",
    "    \n",
    "    for match in npl_matches:\n",
    "        print(match)\n",
    "    print(f\"\\nTotal NPL matches: {len(npl_matches)}\")\n",
    "\n",
    "except Exception as e:\n",
    "    print(f\"Error: {str(e)}\")\n",
    "finally:\n",
    "    driver.quit()"
   ]
  },
  {
   "cell_type": "code",
   "execution_count": 39,
   "metadata": {},
   "outputs": [],
   "source": [
    "def extract_team_names(driver):\n",
    "    team_elements = driver.find_elements(\n",
    "        By.CSS_SELECTOR, \".ds-text-title-xs.ds-font-bold.ds-capitalize\"\n",
    "    )\n",
    "\n",
    "    team_names = [team.text.strip() for team in team_elements]\n",
    "\n",
    "    if len(team_names) >= 2:\n",
    "        return team_names[0], team_names[1]\n",
    "    else:\n",
    "        return None, None"
   ]
  },
  {
   "cell_type": "code",
   "execution_count": 50,
   "metadata": {},
   "outputs": [],
   "source": [
    "def scrape_match_details(driver, match_url):\n",
    "    driver.get(match_url)\n",
    "    wait = WebDriverWait(driver, 10)\n",
    "\n",
    "    table = wait.until(EC.presence_of_element_located((By.CLASS_NAME, 'ds-table')))\n",
    "\n",
    "    soup = BeautifulSoup(driver.page_source, 'html.parser')\n",
    "\n",
    "    match_details = {}\n",
    "\n",
    "    rows = soup.find_all('tr')\n",
    "    \n",
    "    team1, team2 = extract_team_names(driver)\n",
    "    match_details['Team 1'] = team1\n",
    "    match_details['Team 2'] = team2\n",
    "    \n",
    "    for row in rows:\n",
    "        cols = row.find_all('td')\n",
    "        if len(cols) == 2:  # two columns (label and value)\n",
    "            label = cols[0].text.strip()\n",
    "            value = cols[1].text.strip()\n",
    "            \n",
    "            if 'Toss' in label:\n",
    "                match_details['Toss'] = value\n",
    "            elif 'Series' in label:\n",
    "                match_details['Series'] = value\n",
    "            elif 'Season' in label:\n",
    "                match_details['Season'] = value\n",
    "            elif 'Player Of The Match' in label:\n",
    "                match_details['Player Of The Match'] = value\n",
    "            elif 'Match days' in label:\n",
    "                match_details['Match days'] = value\n",
    "            elif 'Umpires' in label:\n",
    "                umpires = [a.text.strip() for a in cols[1].find_all('a')]\n",
    "                match_details['Umpires'] = umpires\n",
    "            elif 'TV Umpire' in label:\n",
    "                match_details['TV Umpire'] = value\n",
    "            elif 'Points' in label:\n",
    "                match_details['Points'] = value\n",
    "\n",
    "    match_info_p = soup.find('p', {'class': 'ds-text-tight-s ds-font-medium ds-truncate ds-text-typo'})\n",
    "    if match_info_p:\n",
    "        match_details['Match Info'] = match_info_p.text.strip()\n",
    "        \n",
    "    team_divs = soup.find_all('div', {'class': 'ds-text-tight-m ds-font-bold ds-text-typo'})\n",
    "    if len(team_divs) >= 2:  # Ensure two teams are present\n",
    "        match_details['Team 1'] = team_divs[0].text.strip()\n",
    "        match_details['Team 2'] = team_divs[1].text.strip()\n",
    "        \n",
    "    target_element = soup.find('div', {'class': 'ds-text-compact-m ds-text-typo ds-text-right ds-whitespace-nowrap'})\n",
    "    if target_element:\n",
    "        target_value = target_element.find('strong').text.strip()\n",
    "        match_details['Target'] = target_value\n",
    "    else:\n",
    "        match_details['Target'] = 'Not Available'\n",
    "        \n",
    "    \n",
    "\n",
    "    return match_details"
   ]
  },
  {
   "cell_type": "code",
   "execution_count": 1,
   "metadata": {},
   "outputs": [
    {
     "ename": "NameError",
     "evalue": "name 'npl_matches' is not defined",
     "output_type": "error",
     "traceback": [
      "\u001b[1;31m---------------------------------------------------------------------------\u001b[0m",
      "\u001b[1;31mNameError\u001b[0m                                 Traceback (most recent call last)",
      "Cell \u001b[1;32mIn[1], line 3\u001b[0m\n\u001b[0;32m      1\u001b[0m matches \u001b[38;5;241m=\u001b[39m []\n\u001b[1;32m----> 3\u001b[0m \u001b[38;5;28;01mfor\u001b[39;00m url \u001b[38;5;129;01min\u001b[39;00m npl_matches:\n\u001b[0;32m      4\u001b[0m     match_details \u001b[38;5;241m=\u001b[39m scrape_match_details(driver, url)\n\u001b[0;32m      6\u001b[0m     match_info \u001b[38;5;241m=\u001b[39m match_details\u001b[38;5;241m.\u001b[39mget(\u001b[38;5;124m'\u001b[39m\u001b[38;5;124mMatch Info\u001b[39m\u001b[38;5;124m'\u001b[39m, \u001b[38;5;124m'\u001b[39m\u001b[38;5;124m'\u001b[39m)\n",
      "\u001b[1;31mNameError\u001b[0m: name 'npl_matches' is not defined"
     ]
    }
   ],
   "source": [
    "matches = []\n",
    "\n",
    "for url in npl_matches:\n",
    "    match_details = scrape_match_details(driver, url)\n",
    "    \n",
    "    match_info = match_details.get('Match Info', '')\n",
    "    \n",
    "    if match_info: \n",
    "        match_info_parts = match_info.split(' by ')\n",
    "        if len(match_info_parts) == 2:\n",
    "            winner_team = match_info_parts[0]\n",
    "            won_by_margin = match_info_parts[1].split()\n",
    "            \n",
    "            if winner_team.startswith('S'):\n",
    "                match_details['Winner_Team'] = ' '.join(winner_team.split(' ')[:2])\n",
    "            else:\n",
    "                match_details['Winner_Team'] = winner_team.split(' ')[0]\n",
    "                \n",
    "            match_details['won_by_margin'] = won_by_margin\n",
    "            \n",
    "    matches.append(match_details)\n",
    "    print(match_details)"
   ]
  },
  {
   "cell_type": "code",
   "execution_count": 49,
   "metadata": {},
   "outputs": [
    {
     "name": "stdout",
     "output_type": "stream",
     "text": [
      "Match details have been written to Nepal_Premier_League.csv\n"
     ]
    }
   ],
   "source": [
    "import csv\n",
    "\n",
    "csv_file_name = \"Nepal_Premier_League.csv\"\n",
    "\n",
    "if matches:\n",
    "    headers = matches[0].keys()  \n",
    "\n",
    "with open(csv_file_name, mode='w', newline='', encoding='utf-8') as csv_file:\n",
    "    writer = csv.DictWriter(csv_file, fieldnames=headers)\n",
    "    writer.writeheader()  \n",
    "    writer.writerows(matches)  \n",
    "\n",
    "print(f\"Match details have been written to {csv_file_name}\")"
   ]
  }
 ],
 "metadata": {
  "kernelspec": {
   "display_name": "base",
   "language": "python",
   "name": "python3"
  },
  "language_info": {
   "codemirror_mode": {
    "name": "ipython",
    "version": 3
   },
   "file_extension": ".py",
   "mimetype": "text/x-python",
   "name": "python",
   "nbconvert_exporter": "python",
   "pygments_lexer": "ipython3",
   "version": "3.12.7"
  }
 },
 "nbformat": 4,
 "nbformat_minor": 4
}
